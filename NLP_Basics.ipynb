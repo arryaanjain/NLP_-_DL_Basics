{
 "cells": [
  {
   "cell_type": "code",
   "execution_count": null,
   "id": "9f25af2b-376d-41b2-9c43-822cb9d6cd8c",
   "metadata": {},
   "outputs": [],
   "source": [
    "import spacy"
   ]
  },
  {
   "cell_type": "code",
   "execution_count": null,
   "id": "42d44834-050d-4e66-aa39-096623cce400",
   "metadata": {},
   "outputs": [],
   "source": [
    "!pip install spacy"
   ]
  },
  {
   "cell_type": "code",
   "execution_count": null,
   "id": "c8405d3e-fe15-4a12-a1a3-f043bff81c29",
   "metadata": {},
   "outputs": [],
   "source": [
    "!python -m spacy download en_core_web_sm\n"
   ]
  },
  {
   "cell_type": "code",
   "execution_count": null,
   "id": "aa1bf933-4c6e-4de1-9466-68317aa72aca",
   "metadata": {},
   "outputs": [],
   "source": [
    "nlp = spacy.load('en_core_web_sm')"
   ]
  },
  {
   "cell_type": "code",
   "execution_count": null,
   "id": "4eeb7ae9-2098-4c2a-bdb0-96063ccaffe0",
   "metadata": {},
   "outputs": [],
   "source": [
    "doc = nlp(u\"I will google about facebook\") "
   ]
  },
  {
   "cell_type": "code",
   "execution_count": null,
   "id": "47186df2-d99f-44b2-8427-9cb39d62eb4f",
   "metadata": {},
   "outputs": [],
   "source": [
    "doc.text"
   ]
  },
  {
   "cell_type": "code",
   "execution_count": null,
   "id": "b3ae8869-b9f1-45d6-83c0-16d625fc898e",
   "metadata": {},
   "outputs": [],
   "source": [
    "doc[-1]"
   ]
  },
  {
   "cell_type": "code",
   "execution_count": null,
   "id": "0ba9ee65-1060-4313-8960-258ff7616ac6",
   "metadata": {},
   "outputs": [],
   "source": [
    "doc[2]"
   ]
  },
  {
   "cell_type": "code",
   "execution_count": null,
   "id": "09a6e8ec-3b24-45ae-be33-08ccc6c6fb31",
   "metadata": {},
   "outputs": [],
   "source": [
    "doc[2].pos_"
   ]
  },
  {
   "cell_type": "code",
   "execution_count": null,
   "id": "c1fa0d9e-068c-45d4-bb88-28eb7c04145a",
   "metadata": {},
   "outputs": [],
   "source": [
    "doc[2].tag_"
   ]
  },
  {
   "cell_type": "code",
   "execution_count": null,
   "id": "24bc8715-5258-4fcb-b71b-472691907fa4",
   "metadata": {},
   "outputs": [],
   "source": [
    "spacy.explain('VB')"
   ]
  },
  {
   "cell_type": "code",
   "execution_count": null,
   "id": "f9db83b7-10d4-43b3-bea7-2081f93d71ff",
   "metadata": {},
   "outputs": [],
   "source": [
    "for word in doc:\n",
    "    print(word.text,\"-------->\",word.pos_, word.tag_, spacy.explain(word.tag_))"
   ]
  },
  {
   "cell_type": "code",
   "execution_count": null,
   "id": "225bb0be-8d63-4886-a26b-c6d85ad6eaeb",
   "metadata": {},
   "outputs": [],
   "source": [
    "doc2 = nlp(u\"I left the room\")\n",
    "for word in doc2:\n",
    "    print(word.text,\"-------->\",word.pos_, word.tag_, spacy.explain(word.tag_))"
   ]
  },
  {
   "cell_type": "code",
   "execution_count": null,
   "id": "cab270f0-2948-4785-80f2-86a7e2a62ed6",
   "metadata": {},
   "outputs": [],
   "source": [
    "doc3 = nlp(u\"to the left of the room\")\n",
    "for word in doc3:\n",
    "    print(word.text,\"-------->\", word.pos_, word.tag_, spacy.explain(word.tag_))"
   ]
  },
  {
   "cell_type": "code",
   "execution_count": null,
   "id": "4139b6e6-75b7-44ac-9587-e579d2b2d607",
   "metadata": {},
   "outputs": [],
   "source": [
    "from spacy import displacy"
   ]
  },
  {
   "cell_type": "code",
   "execution_count": null,
   "id": "61d1525e-018b-4774-bcf4-d9335428209a",
   "metadata": {},
   "outputs": [],
   "source": [
    "displacy.render(doc3, style='dep', jupyter=True)"
   ]
  },
  {
   "cell_type": "code",
   "execution_count": null,
   "id": "111d36d3-67a9-469f-87e4-a322925c6746",
   "metadata": {},
   "outputs": [],
   "source": [
    "doc4 = nlp(u\"This is a test to see what the limit of the computation is\")\n",
    "for word in doc4:\n",
    "    print(word.text,\"-------->\", word.pos_, word.tag_, spacy.explain(word.tag_))"
   ]
  },
  {
   "cell_type": "code",
   "execution_count": null,
   "id": "966207ca-8295-4c5a-8fae-a44a13ce79c5",
   "metadata": {},
   "outputs": [],
   "source": [
    "displacy.render(doc4, style='dep', jupyter=True)"
   ]
  },
  {
   "cell_type": "code",
   "execution_count": null,
   "id": "b27f16db-d8e2-4bda-a740-7dba509708c7",
   "metadata": {},
   "outputs": [],
   "source": []
  }
 ],
 "metadata": {
  "kernelspec": {
   "display_name": "Python 3 (ipykernel)",
   "language": "python",
   "name": "python3"
  },
  "language_info": {
   "codemirror_mode": {
    "name": "ipython",
    "version": 3
   },
   "file_extension": ".py",
   "mimetype": "text/x-python",
   "name": "python",
   "nbconvert_exporter": "python",
   "pygments_lexer": "ipython3",
   "version": "3.13.5"
  }
 },
 "nbformat": 4,
 "nbformat_minor": 5
}
